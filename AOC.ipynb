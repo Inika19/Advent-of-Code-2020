{
 "cells": [
  {
   "cell_type": "code",
   "execution_count": 1,
   "metadata": {
    "ExecuteTime": {
     "end_time": "2020-12-03T18:56:52.068783Z",
     "start_time": "2020-12-03T18:56:51.627432Z"
    }
   },
   "outputs": [],
   "source": [
    "from bs4 import BeautifulSoup\n",
    "import requests"
   ]
  },
  {
   "cell_type": "code",
   "execution_count": 2,
   "metadata": {
    "ExecuteTime": {
     "end_time": "2020-12-03T18:56:52.081623Z",
     "start_time": "2020-12-03T18:56:52.072624Z"
    }
   },
   "outputs": [],
   "source": [
    "cookies = {'session':'53616c7465645f5ff4b35a6eb924fde728d21409670086f7994aae3d5f27a69035f4466a65096035e2fe25fc34f889af'}\n",
    "\n",
    "def get_data(qno):\n",
    "    response = requests.get(f'https://adventofcode.com/2020/day/{str(qno)}/input', cookies = cookies)\n",
    "    data = response.text\n",
    "    return data"
   ]
  },
  {
   "cell_type": "markdown",
   "metadata": {},
   "source": [
    "# Q1. \n",
    "Specifically, they need you to find the two entries that sum to 2020 and then multiply those two numbers together."
   ]
  },
  {
   "cell_type": "code",
   "execution_count": null,
   "metadata": {
    "ExecuteTime": {
     "end_time": "2020-12-03T14:57:45.592676Z",
     "start_time": "2020-12-03T14:57:45.572178Z"
    },
    "code_folding": [
     0
    ]
   },
   "outputs": [],
   "source": [
    "# response\n",
    "\n",
    "# response.headers"
   ]
  },
  {
   "cell_type": "code",
   "execution_count": 4,
   "metadata": {
    "ExecuteTime": {
     "end_time": "2020-12-03T18:57:09.685329Z",
     "start_time": "2020-12-03T18:57:09.667491Z"
    },
    "cell_style": "center"
   },
   "outputs": [
    {
     "name": "stdout",
     "output_type": "stream",
     "text": [
      "326211\n"
     ]
    }
   ],
   "source": [
    "from itertools import combinations\n",
    "\n",
    "a, b = [pair for pair in combinations(data, 2) if sum(pair) == 2020][0]\n",
    "print(a * b)"
   ]
  },
  {
   "cell_type": "markdown",
   "metadata": {},
   "source": [
    "In your expense report, what is the product of the three entries that sum to 2020?"
   ]
  },
  {
   "cell_type": "code",
   "execution_count": 6,
   "metadata": {
    "ExecuteTime": {
     "end_time": "2020-12-03T18:57:31.965683Z",
     "start_time": "2020-12-03T18:57:31.562031Z"
    },
    "cell_style": "center"
   },
   "outputs": [
    {
     "name": "stdout",
     "output_type": "stream",
     "text": [
      "131347190\n"
     ]
    }
   ],
   "source": [
    "a, b, c = [triple for triple in combinations(data, 3) if sum(triple) == 2020][0]\n",
    "print(a * b * c)"
   ]
  },
  {
   "cell_type": "markdown",
   "metadata": {},
   "source": [
    "# Q2. \n"
   ]
  },
  {
   "cell_type": "code",
   "execution_count": 5,
   "metadata": {
    "ExecuteTime": {
     "end_time": "2020-12-03T18:22:07.375863Z",
     "start_time": "2020-12-03T18:22:06.330424Z"
    }
   },
   "outputs": [
    {
     "name": "stdout",
     "output_type": "stream",
     "text": [
      "600\n"
     ]
    }
   ],
   "source": [
    "data = get_data(2)\n",
    "data = data.split('\\n')\n",
    "# data\n",
    "\n",
    "import re\n",
    "valid = 0\n",
    "for rule in data[:-1]:\n",
    "    bounds, char, _, pwd = [x.strip() for x in re.split(':| ', rule)]\n",
    "    lb, ub = [int(x) for x in bounds.split('-')] \n",
    "    count = list(pwd).count(char)\n",
    "    if  count <= ub and count >= lb:\n",
    "        valid += 1\n",
    "print(valid)"
   ]
  },
  {
   "cell_type": "markdown",
   "metadata": {},
   "source": [
    "Each policy actually describes two positions in the password, where 1 means the first character, 2 means the second character, and so on. (Be careful; Toboggan Corporate Policies have no concept of \"index zero\"!) Exactly one of these positions must contain the given letter. Other occurrences of the letter are irrelevant for the purposes of policy enforcement."
   ]
  },
  {
   "cell_type": "code",
   "execution_count": 6,
   "metadata": {
    "ExecuteTime": {
     "end_time": "2020-12-03T18:22:10.641425Z",
     "start_time": "2020-12-03T18:22:10.624372Z"
    }
   },
   "outputs": [
    {
     "name": "stdout",
     "output_type": "stream",
     "text": [
      "245\n"
     ]
    }
   ],
   "source": [
    "valid = 0\n",
    "for i, rule in enumerate(data[:-1]):\n",
    "    pos, char, _, pwd = [x.strip() for x in re.split(':| ', rule)]\n",
    "    p1, p2 = [int(x)-1 for x in pos.split('-')] \n",
    "    if int(pwd[p1] == char) + int(pwd[p2] == char) == 1:\n",
    "        valid += 1\n",
    "print(valid)"
   ]
  },
  {
   "cell_type": "markdown",
   "metadata": {},
   "source": [
    "# Q3. \n",
    "Starting at the top-left corner of your map and following a slope of right 3 and down 1, how many trees would you encounter?"
   ]
  },
  {
   "cell_type": "code",
   "execution_count": 7,
   "metadata": {
    "ExecuteTime": {
     "end_time": "2020-12-03T18:22:16.178792Z",
     "start_time": "2020-12-03T18:22:14.775625Z"
    }
   },
   "outputs": [
    {
     "name": "stdout",
     "output_type": "stream",
     "text": [
      "262\n"
     ]
    }
   ],
   "source": [
    "data = get_data(3)\n",
    "data = data.strip()\n",
    "\n",
    "import numpy as np\n",
    "\n",
    "n = len(data.split('\\n'))\n",
    "data = np.array(list(data.replace('\\n','')))\n",
    "data = data.reshape(n,-1)\n",
    "\n",
    "count, i, j = 0, 0, 0 \n",
    "d2 = data[:]\n",
    "\n",
    "while i < data.shape[0]:\n",
    "    if d2[i, j] == '#':\n",
    "        count += 1\n",
    "    i += 1\n",
    "    j += 3\n",
    "    if j >= d2.shape[1]:\n",
    "        d2 = np.concatenate((d2, data), axis = 1)\n",
    "        \n",
    "print(count)"
   ]
  },
  {
   "cell_type": "markdown",
   "metadata": {},
   "source": [
    "Determine the number of trees you would encounter if, for each of the following slopes, you start at the top-left corner and traverse the map all the way to the bottom:\n",
    "\n",
    "1. Right 1, down 1.\n",
    "2. Right 3, down 1. (This is the slope you already checked.)\n",
    "3. Right 5, down 1.\n",
    "4. Right 7, down 1.\n",
    "5. Right 1, down 2.\n",
    "\n",
    "What do you get if you multiply together the number of trees encountered on each of the listed slopes?"
   ]
  },
  {
   "cell_type": "code",
   "execution_count": 8,
   "metadata": {
    "ExecuteTime": {
     "end_time": "2020-12-03T18:22:26.226721Z",
     "start_time": "2020-12-03T18:22:18.747960Z"
    }
   },
   "outputs": [
    {
     "name": "stdout",
     "output_type": "stream",
     "text": [
      "2698900776\n"
     ]
    }
   ],
   "source": [
    "ans = 1\n",
    "slopes = [(1, 1),(3, 1), (5, 1), (7, 1), (1, 2)] # right and down\n",
    "d2 = ''\n",
    "\n",
    "for t in slopes:\n",
    "    count, i, j = 0, 0, 0\n",
    "    d2 = data[:]\n",
    "    while i < data.shape[0]:\n",
    "        if d2[i, j] == '#':\n",
    "            count += 1\n",
    "        j += t[0]\n",
    "        i += t[1]\n",
    "\n",
    "        if j >= data.shape[1]:\n",
    "            d2 = np.concatenate((d2, data), axis = 1)\n",
    "    \n",
    "    ans *= count\n",
    "        \n",
    "print(ans)"
   ]
  },
  {
   "cell_type": "code",
   "execution_count": null,
   "metadata": {},
   "outputs": [],
   "source": []
  }
 ],
 "metadata": {
  "kernelspec": {
   "display_name": "Python 3",
   "language": "python",
   "name": "python3"
  },
  "language_info": {
   "codemirror_mode": {
    "name": "ipython",
    "version": 3
   },
   "file_extension": ".py",
   "mimetype": "text/x-python",
   "name": "python",
   "nbconvert_exporter": "python",
   "pygments_lexer": "ipython3",
   "version": "3.8.5"
  },
  "toc": {
   "base_numbering": 1,
   "nav_menu": {},
   "number_sections": true,
   "sideBar": true,
   "skip_h1_title": false,
   "title_cell": "Table of Contents",
   "title_sidebar": "Contents",
   "toc_cell": false,
   "toc_position": {},
   "toc_section_display": true,
   "toc_window_display": false
  }
 },
 "nbformat": 4,
 "nbformat_minor": 4
}
