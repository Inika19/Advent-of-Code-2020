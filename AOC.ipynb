{
 "cells": [
  {
   "cell_type": "code",
   "execution_count": 1,
   "metadata": {
    "ExecuteTime": {
     "end_time": "2020-12-04T17:28:48.704645Z",
     "start_time": "2020-12-04T17:28:48.265343Z"
    }
   },
   "outputs": [],
   "source": [
    "from bs4 import BeautifulSoup\n",
    "import requests\n",
    "import re"
   ]
  },
  {
   "cell_type": "code",
   "execution_count": 2,
   "metadata": {
    "ExecuteTime": {
     "end_time": "2020-12-04T17:28:48.744065Z",
     "start_time": "2020-12-04T17:28:48.730203Z"
    }
   },
   "outputs": [],
   "source": [
    "cookies = {'session':'53616c7465645f5ff4b35a6eb924fde728d21409670086f7994aae3d5f27a69035f4466a65096035e2fe25fc34f889af'}\n",
    "def get_data(qno):\n",
    "    response = requests.get(f'https://adventofcode.com/2020/day/{str(qno)}/input', cookies = cookies)\n",
    "    data = response.text\n",
    "    return data"
   ]
  },
  {
   "cell_type": "markdown",
   "metadata": {},
   "source": [
    "# Q1. \n",
    "Specifically, they need you to find the two entries that sum to 2020 and then multiply those two numbers together."
   ]
  },
  {
   "cell_type": "code",
   "execution_count": null,
   "metadata": {
    "ExecuteTime": {
     "end_time": "2020-12-03T14:57:45.592676Z",
     "start_time": "2020-12-03T14:57:45.572178Z"
    },
    "code_folding": [
     0
    ]
   },
   "outputs": [],
   "source": [
    "# response\n",
    "\n",
    "# response.headers"
   ]
  },
  {
   "cell_type": "code",
   "execution_count": 8,
   "metadata": {
    "ExecuteTime": {
     "end_time": "2020-12-03T19:01:36.368905Z",
     "start_time": "2020-12-03T19:01:35.137373Z"
    },
    "cell_style": "center"
   },
   "outputs": [
    {
     "name": "stdout",
     "output_type": "stream",
     "text": [
      "326211\n"
     ]
    }
   ],
   "source": [
    "data = [int(x) for x in get_data(1).split()]\n",
    "\n",
    "from itertools import combinations\n",
    "\n",
    "a, b = [pair for pair in combinations(data, 2) if sum(pair) == 2020][0]\n",
    "print(a * b)"
   ]
  },
  {
   "cell_type": "markdown",
   "metadata": {},
   "source": [
    "## In your expense report, what is the product of the three entries that sum to 2020?"
   ]
  },
  {
   "cell_type": "code",
   "execution_count": 6,
   "metadata": {
    "ExecuteTime": {
     "end_time": "2020-12-03T18:57:31.965683Z",
     "start_time": "2020-12-03T18:57:31.562031Z"
    },
    "cell_style": "center"
   },
   "outputs": [
    {
     "name": "stdout",
     "output_type": "stream",
     "text": [
      "131347190\n"
     ]
    }
   ],
   "source": [
    "a, b, c = [triple for triple in combinations(data, 3) if sum(triple) == 2020][0]\n",
    "print(a * b * c)"
   ]
  },
  {
   "cell_type": "markdown",
   "metadata": {},
   "source": [
    "# Q2. \n"
   ]
  },
  {
   "cell_type": "code",
   "execution_count": 10,
   "metadata": {
    "ExecuteTime": {
     "end_time": "2020-12-03T19:05:12.681671Z",
     "start_time": "2020-12-03T19:05:11.617679Z"
    }
   },
   "outputs": [
    {
     "name": "stdout",
     "output_type": "stream",
     "text": [
      "600\n"
     ]
    }
   ],
   "source": [
    "data = get_data(2)\n",
    "data = data.split('\\n')\n",
    "\n",
    "# data\n",
    "\n",
    "valid = 0\n",
    "for rule in data[:-1]:\n",
    "    bounds, char, _, pwd = [x.strip() for x in re.split(':| ', rule)]\n",
    "    lb, ub = [int(x) for x in bounds.split('-')] \n",
    "    count = list(pwd).count(char)\n",
    "    if  count <= ub and count >= lb:\n",
    "        valid += 1\n",
    "\n",
    "print(valid)"
   ]
  },
  {
   "cell_type": "markdown",
   "metadata": {},
   "source": [
    "## New Policy:\n",
    "Each policy actually describes two positions in the password, where 1 means the first character, 2 means the second character, and so on. (Be careful; Toboggan Corporate Policies have no concept of \"index zero\"!) Exactly one of these positions must contain the given letter. Other occurrences of the letter are irrelevant for the purposes of policy enforcement."
   ]
  },
  {
   "cell_type": "code",
   "execution_count": 6,
   "metadata": {
    "ExecuteTime": {
     "end_time": "2020-12-03T18:22:10.641425Z",
     "start_time": "2020-12-03T18:22:10.624372Z"
    }
   },
   "outputs": [
    {
     "name": "stdout",
     "output_type": "stream",
     "text": [
      "245\n"
     ]
    }
   ],
   "source": [
    "valid = 0\n",
    "for i, rule in enumerate(data[:-1]):\n",
    "    pos, char, _, pwd = [x.strip() for x in re.split(':| ', rule)]\n",
    "    p1, p2 = [int(x)-1 for x in pos.split('-')] \n",
    "    if int(pwd[p1] == char) + int(pwd[p2] == char) == 1:\n",
    "        valid += 1\n",
    "print(valid)"
   ]
  },
  {
   "cell_type": "markdown",
   "metadata": {},
   "source": [
    "# Q3. \n",
    "Starting at the top-left corner of your map and following a slope of right 3 and down 1, how many trees would you encounter?"
   ]
  },
  {
   "cell_type": "code",
   "execution_count": 7,
   "metadata": {
    "ExecuteTime": {
     "end_time": "2020-12-03T18:22:16.178792Z",
     "start_time": "2020-12-03T18:22:14.775625Z"
    }
   },
   "outputs": [
    {
     "name": "stdout",
     "output_type": "stream",
     "text": [
      "262\n"
     ]
    }
   ],
   "source": [
    "data = get_data(3)\n",
    "data = data.strip()\n",
    "\n",
    "import numpy as np\n",
    "\n",
    "n = len(data.split('\\n'))\n",
    "data = np.array(list(data.replace('\\n','')))\n",
    "data = data.reshape(n,-1)\n",
    "\n",
    "count, i, j = 0, 0, 0 \n",
    "d2 = data[:]\n",
    "\n",
    "while i < data.shape[0]:\n",
    "    if d2[i, j] == '#':\n",
    "        count += 1\n",
    "    i += 1\n",
    "    j += 3\n",
    "    if j >= d2.shape[1]:\n",
    "        d2 = np.concatenate((d2, data), axis = 1)\n",
    "        \n",
    "print(count)"
   ]
  },
  {
   "cell_type": "markdown",
   "metadata": {},
   "source": [
    "## Determine the number of trees you would encounter if, for each of the following slopes, you start at the top-left corner and traverse the map all the way to the bottom:\n",
    "\n",
    "1. Right 1, down 1.\n",
    "2. Right 3, down 1. (This is the slope you already checked.)\n",
    "3. Right 5, down 1.\n",
    "4. Right 7, down 1.\n",
    "5. Right 1, down 2.\n",
    "\n",
    "What do you get if you multiply together the number of trees encountered on each of the listed slopes?"
   ]
  },
  {
   "cell_type": "code",
   "execution_count": 8,
   "metadata": {
    "ExecuteTime": {
     "end_time": "2020-12-03T18:22:26.226721Z",
     "start_time": "2020-12-03T18:22:18.747960Z"
    }
   },
   "outputs": [
    {
     "name": "stdout",
     "output_type": "stream",
     "text": [
      "2698900776\n"
     ]
    }
   ],
   "source": [
    "ans = 1\n",
    "slopes = [(1, 1),(3, 1), (5, 1), (7, 1), (1, 2)] # right and down\n",
    "d2 = ''\n",
    "\n",
    "for t in slopes:\n",
    "    count, i, j = 0, 0, 0\n",
    "    d2 = data[:]\n",
    "    while i < data.shape[0]:\n",
    "        if d2[i, j] == '#':\n",
    "            count += 1\n",
    "        j += t[0]\n",
    "        i += t[1]\n",
    "\n",
    "        if j >= data.shape[1]:\n",
    "            d2 = np.concatenate((d2, data), axis = 1)\n",
    "    \n",
    "    ans *= count\n",
    "        \n",
    "print(ans)"
   ]
  },
  {
   "cell_type": "markdown",
   "metadata": {},
   "source": [
    "# Q4. \n",
    "The expected fields are as follows:\n",
    "\n",
    "1. byr (Birth Year)\n",
    "2. iyr (Issue Year)\n",
    "3. eyr (Expiration Year)\n",
    "4. hgt (Height)\n",
    "5. hcl (Hair Color)\n",
    "6. ecl (Eye Color)\n",
    "7. pid (Passport ID)\n",
    "7. cid (Country ID)\n",
    "  \n",
    "Passport data is validated in batch files (your puzzle input). Each passport is represented as a sequence of key:value pairs separated by spaces or newlines. Passports are separated by blank lines.  \n",
    "Count the number of valid passports - those that have all required fields. Treat cid as optional. In your batch file, how many passports are valid?"
   ]
  },
  {
   "cell_type": "code",
   "execution_count": 3,
   "metadata": {
    "ExecuteTime": {
     "end_time": "2020-12-04T17:28:56.822682Z",
     "start_time": "2020-12-04T17:28:55.447478Z"
    }
   },
   "outputs": [],
   "source": [
    "data = [x.split() for x in get_data(4).split('\\n\\n') if x!= '']"
   ]
  },
  {
   "cell_type": "code",
   "execution_count": 137,
   "metadata": {
    "ExecuteTime": {
     "end_time": "2020-12-04T16:34:17.074222Z",
     "start_time": "2020-12-04T16:34:17.062158Z"
    }
   },
   "outputs": [
    {
     "name": "stdout",
     "output_type": "stream",
     "text": [
      "260\n"
     ]
    }
   ],
   "source": [
    "valid, valids = 0, [set(['eyr', 'hgt', 'hcl', 'pid', 'byr', 'ecl', 'iyr', 'cid'])]\n",
    "valids += [set([i for i in valids[0] if i!= 'cid'])]\n",
    "\n",
    "for passport in data:\n",
    "    if set([item.split(':')[0] for item in passport]) in valids:\n",
    "        valid += 1\n",
    "\n",
    "print(valid)"
   ]
  },
  {
   "cell_type": "markdown",
   "metadata": {},
   "source": [
    "## You can continue to ignore the cid field, but each other field has strict rules about what values are valid for automatic validation:\n",
    "\n",
    "- byr (Birth Year) - four digits; at least 1920 and at most 2002.\n",
    "- iyr (Issue Year) - four digits; at least 2010 and at most 2020.\n",
    "- eyr (Expiration Year) - four digits; at least 2020 and at most 2030.\n",
    "- hgt (Height) - a number followed by either cm or in:  \n",
    "    If cm, the number must be at least 150 and at most 193.  \n",
    "    If in, the number must be at least 59 and at most 76.  \n",
    "- hcl (Hair Color) - a # followed by exactly six characters 0-9 or a-f.\n",
    "- ecl (Eye Color) - exactly one of: amb blu brn gry grn hzl oth.\n",
    "- pid (Passport ID) - a nine-digit number, including leading zeroes.\n",
    "- cid (Country ID) - ignored, missing or not.\n",
    "\n",
    "Your job is to count the passports where all required fields are both present and valid according to the above rules."
   ]
  },
  {
   "cell_type": "code",
   "execution_count": 5,
   "metadata": {
    "ExecuteTime": {
     "end_time": "2020-12-04T17:31:07.573411Z",
     "start_time": "2020-12-04T17:31:07.553765Z"
    }
   },
   "outputs": [
    {
     "name": "stdout",
     "output_type": "stream",
     "text": [
      "153\n"
     ]
    }
   ],
   "source": [
    "fields = {\n",
    "        'byr': lambda yr: 1920 <= int(yr) <= 2002,\n",
    "        'iyr': lambda yr: 2010 <= int(yr) <= 2020,\n",
    "        'eyr': lambda yr: 2020 <= int(yr) <= 2030,\n",
    "        'hgt': lambda s: 150 <= int(s[:-2]) <= 193 if s[-2:] == 'cm' else 59 <= int(s[:-2]) <= 76 if s[-2:] == 'in' else False,\n",
    "        'hcl': lambda hcl: re.search(r'^#(\\d|[a-f]){6}$', hcl)!= None,\n",
    "        'ecl': lambda ecl: ecl in ['amb', 'blu', 'brn', 'gry', 'grn', 'hzl', 'oth'],\n",
    "        'pid': lambda n: n.isnumeric() and len(n) == 9\n",
    "        }\n",
    "\n",
    "ans = 0\n",
    "vp2 = []\n",
    "for passport in data:\n",
    "    pp = {item.split(':')[0]: item.split(':')[1] for item in passport if item[:3]!='cid'}\n",
    "    if (set(pp) == set(fields)) and sum([fields[f](pp[f]) for f in pp])==7:\n",
    "        ans += 1 \n",
    "        vp2.append(pp)\n",
    "print(ans)"
   ]
  },
  {
   "cell_type": "code",
   "execution_count": 192,
   "metadata": {
    "ExecuteTime": {
     "end_time": "2020-12-04T17:20:46.161840Z",
     "start_time": "2020-12-04T17:20:46.145325Z"
    },
    "cell_style": "center",
    "code_folding": [
     0
    ]
   },
   "outputs": [
    {
     "name": "stdout",
     "output_type": "stream",
     "text": [
      "155\n"
     ]
    }
   ],
   "source": [
    "# requirements = {\n",
    "#     'byr': r'(19[2-9]\\d)|(200[0-2])',\n",
    "#     'iyr': r'(201\\d)|(2020)',\n",
    "#     'eyr': r'(202\\d)|(2030)',\n",
    "#     'hgt': r'((1(([5-8]\\d)|(9[0-3])))cm)|((59)|(6\\d)|(7[0-6])in)', # problemmatic\n",
    "#     'hcl': r'#(\\d|[a-f]){6}',\n",
    "#     'ecl': r'(amb|blu|brn|gry|grn|hzl|oth)',\n",
    "#     'pid': r'^\\d{9}$'\n",
    "# }\n",
    "\n",
    "# ans = 0\n",
    "# vp = []\n",
    "# for passport in data:\n",
    "#     pp = {item.split(':')[0]: item.split(':')[1] for item in passport if item[:3]!= 'cid'}\n",
    "#     if (set(pp) == set(requirements)) and sum([re.search(requirements[field], pp[field]) != None for field in pp])==7:\n",
    "#         ans += 1  \n",
    "#         vp.append(pp)\n",
    "\n",
    "# print(ans)\n",
    "\n",
    "# len(vp), len(vp2)\n",
    "# for i in vp:\n",
    "#     if i not in vp2:\n",
    "#         print(dict(sorted(i.items()))) # invalid passports that regex didnt exclude"
   ]
  },
  {
   "cell_type": "code",
   "execution_count": null,
   "metadata": {},
   "outputs": [],
   "source": []
  }
 ],
 "metadata": {
  "kernelspec": {
   "display_name": "Python 3",
   "language": "python",
   "name": "python3"
  },
  "language_info": {
   "codemirror_mode": {
    "name": "ipython",
    "version": 3
   },
   "file_extension": ".py",
   "mimetype": "text/x-python",
   "name": "python",
   "nbconvert_exporter": "python",
   "pygments_lexer": "ipython3",
   "version": "3.8.5"
  },
  "toc": {
   "base_numbering": 1,
   "nav_menu": {},
   "number_sections": true,
   "sideBar": true,
   "skip_h1_title": false,
   "title_cell": "Table of Contents",
   "title_sidebar": "Contents",
   "toc_cell": false,
   "toc_position": {},
   "toc_section_display": true,
   "toc_window_display": false
  }
 },
 "nbformat": 4,
 "nbformat_minor": 4
}
